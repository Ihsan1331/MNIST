{
  "nbformat": 4,
  "nbformat_minor": 0,
  "metadata": {
    "colab": {
      "provenance": [],
      "collapsed_sections": [
        "BDVYdPk-Jr1j"
      ],
      "gpuType": "T4",
      "authorship_tag": "ABX9TyMhiNqfA057X/uN0ZbhzdVC",
      "include_colab_link": true
    },
    "kernelspec": {
      "name": "python3",
      "display_name": "Python 3"
    },
    "language_info": {
      "name": "python"
    },
    "accelerator": "GPU",
    "gpuClass": "standard"
  },
  "cells": [
    {
      "cell_type": "markdown",
      "metadata": {
        "id": "view-in-github",
        "colab_type": "text"
      },
      "source": [
        "<a href=\"https://colab.research.google.com/github/Ihsan1331/MNIST/blob/main/MNIST.ipynb\" target=\"_parent\"><img src=\"https://colab.research.google.com/assets/colab-badge.svg\" alt=\"Open In Colab\"/></a>"
      ]
    },
    {
      "cell_type": "markdown",
      "source": [
        "#1. Import Package\n",
        "\n",
        "---\n",
        "\n"
      ],
      "metadata": {
        "id": "ehaAraf_LlaZ"
      }
    },
    {
      "cell_type": "code",
      "source": [
        "import pandas as pd\n",
        "import numpy as np\n",
        "import matplotlib.pyplot as plt\n",
        "import tensorflow as tf\n",
        "from tensorflow.keras.layers import Input, Conv2D, Dense, Flatten, MaxPooling2D, Dropout\n",
        "from tensorflow.keras.models import Model\n",
        "from sklearn.model_selection import train_test_split\n",
        "from sklearn.metrics import confusion_matrix, accuracy_score\n",
        "import seaborn as sns"
      ],
      "metadata": {
        "id": "VEkhtwVlKP_e"
      },
      "execution_count": 71,
      "outputs": []
    },
    {
      "cell_type": "markdown",
      "source": [
        "#2. Import Dataset\n",
        "\n",
        "---\n",
        "\n"
      ],
      "metadata": {
        "id": "BDVYdPk-Jr1j"
      }
    },
    {
      "cell_type": "code",
      "execution_count": 77,
      "metadata": {
        "id": "L4F-_wlMJGm3"
      },
      "outputs": [],
      "source": [
        "import warnings\n",
        "warnings.filterwarnings('ignore')\n",
        "from pydrive.auth import GoogleAuth\n",
        "from pydrive.drive import GoogleDrive\n",
        "from google.colab import auth\n",
        "from oauth2client.client import GoogleCredentials\n",
        "\n",
        "auth.authenticate_user()\n",
        "gauth = GoogleAuth()\n",
        "gauth.credentials = GoogleCredentials.get_application_default()\n",
        "drive = GoogleDrive(gauth)\n",
        "\n",
        "downloaded = drive.CreateFile({'id':\"1pqMhdhBuOcvt-H3EtTRbQU2zDgFJn_Dt\"}) \n",
        "downloaded.GetContentFile('digit-recognizer.zip')        "
      ]
    },
    {
      "cell_type": "code",
      "source": [
        "!unzip digit-recognizer.zip -d digit-recognizer"
      ],
      "metadata": {
        "colab": {
          "base_uri": "https://localhost:8080/"
        },
        "id": "MjsLDZLgKLUX",
        "outputId": "8ad70d99-f74c-4154-84f3-268e5f61312b"
      },
      "execution_count": 78,
      "outputs": [
        {
          "output_type": "stream",
          "name": "stdout",
          "text": [
            "Archive:  digit-recognizer.zip\n",
            "replace digit-recognizer/sample_submission.csv? [y]es, [n]o, [A]ll, [N]one, [r]ename: A\n",
            "  inflating: digit-recognizer/sample_submission.csv  \n",
            "  inflating: digit-recognizer/test.csv  \n",
            "  inflating: digit-recognizer/train.csv  \n"
          ]
        }
      ]
    },
    {
      "cell_type": "code",
      "source": [
        "train_data = pd.read_csv('./digit-recognizer/train.csv')\n",
        "test_data = pd.read_csv('./digit-recognizer/test.csv')"
      ],
      "metadata": {
        "id": "-FX0y_KILB3G"
      },
      "execution_count": 79,
      "outputs": []
    },
    {
      "cell_type": "markdown",
      "source": [
        "# 3. Preprocessing\n",
        "\n",
        "---\n",
        "\n"
      ],
      "metadata": {
        "id": "PJh1LZjGLiH-"
      }
    },
    {
      "cell_type": "markdown",
      "source": [
        "## 3.1 Extract Label feature from train data"
      ],
      "metadata": {
        "id": "Y_esJF5ZP5FT"
      }
    },
    {
      "cell_type": "code",
      "source": [
        "train_data.columns"
      ],
      "metadata": {
        "colab": {
          "base_uri": "https://localhost:8080/"
        },
        "id": "UW_Sjw2PMtZt",
        "outputId": "6aebb50f-fe7b-4598-a2bb-8179fb3b9e52"
      },
      "execution_count": 80,
      "outputs": [
        {
          "output_type": "execute_result",
          "data": {
            "text/plain": [
              "Index(['label', 'pixel0', 'pixel1', 'pixel2', 'pixel3', 'pixel4', 'pixel5',\n",
              "       'pixel6', 'pixel7', 'pixel8',\n",
              "       ...\n",
              "       'pixel774', 'pixel775', 'pixel776', 'pixel777', 'pixel778', 'pixel779',\n",
              "       'pixel780', 'pixel781', 'pixel782', 'pixel783'],\n",
              "      dtype='object', length=785)"
            ]
          },
          "metadata": {},
          "execution_count": 80
        }
      ]
    },
    {
      "cell_type": "code",
      "source": [
        "train_label = train_data['label']\n",
        "train_data = train_data.drop(['label'], axis = 1)\n",
        "print('shape of train data = ', train_data.shape)\n",
        "print('shape of test data = ', test_data.shape)"
      ],
      "metadata": {
        "colab": {
          "base_uri": "https://localhost:8080/"
        },
        "id": "Zum5-qw8LbXx",
        "outputId": "0ca6ada8-927b-4115-8fce-d11fb0b359a0"
      },
      "execution_count": 81,
      "outputs": [
        {
          "output_type": "stream",
          "name": "stdout",
          "text": [
            "shape of train data =  (42000, 784)\n",
            "shape of test data =  (28000, 784)\n"
          ]
        }
      ]
    },
    {
      "cell_type": "markdown",
      "source": [
        "## 3.2 Reshape the image from 1D to 3D matrices "
      ],
      "metadata": {
        "id": "Lgaky-j0QLC3"
      }
    },
    {
      "cell_type": "code",
      "source": [
        "train_data_np = train_data.values.reshape(-1, 28, 28, 1 )\n",
        "test_data_np = test_data.values.reshape(-1,28,28,1)"
      ],
      "metadata": {
        "id": "7qf1upzzLz4f"
      },
      "execution_count": 82,
      "outputs": []
    },
    {
      "cell_type": "code",
      "source": [
        "fig, ((ax1, ax2, ax3), (ax4, ax5, ax6)) = plt.subplots(nrows = 2, ncols = 3)\n",
        "ax1.imshow(train_data_np[8], cmap ='gray')\n",
        "ax2.imshow(train_data_np[9], cmap ='gray')\n",
        "ax3.imshow(train_data_np[10], cmap ='gray')\n",
        "ax4.imshow(train_data_np[15], cmap ='gray')\n",
        "ax5.imshow(train_data_np[89], cmap ='gray')\n",
        "ax6.imshow(train_data_np[40], cmap ='gray')"
      ],
      "metadata": {
        "colab": {
          "base_uri": "https://localhost:8080/",
          "height": 0
        },
        "id": "ZM57yiM_QZBj",
        "outputId": "b4dc3b5c-255f-47da-dd3d-657efe2946d7"
      },
      "execution_count": 83,
      "outputs": [
        {
          "output_type": "execute_result",
          "data": {
            "text/plain": [
              "<matplotlib.image.AxesImage at 0x7ff3ab1bd600>"
            ]
          },
          "metadata": {},
          "execution_count": 83
        },
        {
          "output_type": "display_data",
          "data": {
            "text/plain": [
              "<Figure size 640x480 with 6 Axes>"
            ],
            "image/png": "[encoded data removed]"
          },
          "metadata": {}
        }
      ]
    },
    {
      "cell_type": "markdown",
      "source": [
        "## 3.3 Normalize the pixel value"
      ],
      "metadata": {
        "id": "cuxUazQDTd15"
      }
    },
    {
      "cell_type": "code",
      "source": [
        "train_data_norm = train_data_np/255\n",
        "test_data_norm = test_data_np/255"
      ],
      "metadata": {
        "id": "szdXrDyVTnmW"
      },
      "execution_count": 84,
      "outputs": []
    },
    {
      "cell_type": "markdown",
      "source": [
        "##3.4 Split train data into train and validation data"
      ],
      "metadata": {
        "id": "47pG5Hl7X8o0"
      }
    },
    {
      "cell_type": "code",
      "source": [
        "x_train, x_test, y_train, y_test = train_test_split(train_data_norm, train_label, test_size = 0.2, stratify = train_label) "
      ],
      "metadata": {
        "id": "BFe2bdQ5YCsG"
      },
      "execution_count": 85,
      "outputs": []
    },
    {
      "cell_type": "markdown",
      "source": [
        "## 3.5 One Hot Encoder"
      ],
      "metadata": {
        "id": "ZTJe4maJbEGv"
      }
    },
    {
      "cell_type": "code",
      "source": [
        "depth = 10\n",
        "y_train = tf.one_hot(y_train, depth)\n",
        "y_test = tf.one_hot(y_test, depth)"
      ],
      "metadata": {
        "id": "aOcj8Bv5bIoo"
      },
      "execution_count": 86,
      "outputs": []
    },
    {
      "cell_type": "markdown",
      "source": [
        "#4. CNN Model\n",
        "\n",
        "---\n",
        "\n"
      ],
      "metadata": {
        "id": "1wFIxYH7TxFA"
      }
    },
    {
      "cell_type": "markdown",
      "source": [
        "## 4.1 CNN architecture"
      ],
      "metadata": {
        "id": "Q6_epS8nNeIm"
      }
    },
    {
      "cell_type": "code",
      "source": [
        "i = Input(shape = (28, 28,1))\n",
        "\n",
        "conv1 = Conv2D(32, (2,2), activation = 'relu', padding = 'same')(i)\n",
        "pool1 = MaxPooling2D(pool_size=(2, 2))(conv1)\n",
        "\n",
        "conv2 = Conv2D(16, (2,2), activation = 'relu', padding = 'same')(pool1)\n",
        "pool2 = MaxPooling2D(pool_size=(2, 2))(conv2)\n",
        "\n",
        "drop1 = Dropout(0.2)(pool2)\n",
        "\n",
        "conv3 = Conv2D(8, (2,2), activation = 'relu', padding = 'same')(drop1)\n",
        "pool3 = MaxPooling2D(pool_size=(2, 2))(conv3)\n",
        "\n",
        "drop2 = Dropout(0.2)(pool3)\n",
        "\n",
        "conv4 = Conv2D(4, (2,2), activation = 'relu', padding = 'same')(drop2)\n",
        "pool4 = MaxPooling2D(pool_size=(2, 2))(conv3)\n",
        "\n",
        "flatten = Flatten()(pool4)\n",
        "dense = Dense(10, activation = 'softmax')(flatten)\n",
        "\n",
        "model = Model(i,dense)\n",
        "model.summary()"
      ],
      "metadata": {
        "colab": {
          "base_uri": "https://localhost:8080/"
        },
        "id": "yFRjAekyXelf",
        "outputId": "6970376b-6923-4391-fb4a-c86713c1e6b0"
      },
      "execution_count": 87,
      "outputs": [
        {
          "output_type": "stream",
          "name": "stdout",
          "text": [
            "Model: \"model_4\"\n",
            "_________________________________________________________________\n",
            " Layer (type)                Output Shape              Param #   \n",
            "=================================================================\n",
            " input_6 (InputLayer)        [(None, 28, 28, 1)]       0         \n",
            "                                                                 \n",
            " conv2d_19 (Conv2D)          (None, 28, 28, 32)        160       \n",
            "                                                                 \n",
            " max_pooling2d_18 (MaxPoolin  (None, 14, 14, 32)       0         \n",
            " g2D)                                                            \n",
            "                                                                 \n",
            " conv2d_20 (Conv2D)          (None, 14, 14, 16)        2064      \n",
            "                                                                 \n",
            " max_pooling2d_19 (MaxPoolin  (None, 7, 7, 16)         0         \n",
            " g2D)                                                            \n",
            "                                                                 \n",
            " dropout_3 (Dropout)         (None, 7, 7, 16)          0         \n",
            "                                                                 \n",
            " conv2d_21 (Conv2D)          (None, 7, 7, 8)           520       \n",
            "                                                                 \n",
            " max_pooling2d_21 (MaxPoolin  (None, 3, 3, 8)          0         \n",
            " g2D)                                                            \n",
            "                                                                 \n",
            " flatten_4 (Flatten)         (None, 72)                0         \n",
            "                                                                 \n",
            " dense_4 (Dense)             (None, 10)                730       \n",
            "                                                                 \n",
            "=================================================================\n",
            "Total params: 3,474\n",
            "Trainable params: 3,474\n",
            "Non-trainable params: 0\n",
            "_________________________________________________________________\n"
          ]
        }
      ]
    },
    {
      "cell_type": "markdown",
      "source": [
        "## 4.2 Training CNN"
      ],
      "metadata": {
        "id": "v2dy7DZuNlCd"
      }
    },
    {
      "cell_type": "code",
      "source": [
        "model.compile(optimizer = 'adam', loss = tf.keras.losses.CategoricalCrossentropy(),metrics=['accuracy'])\n",
        "r = model.fit(x_train, y_train, validation_data = (x_test, y_test), epochs = 50, batch_size = 32)"
      ],
      "metadata": {
        "colab": {
          "base_uri": "https://localhost:8080/"
        },
        "id": "TcgIIgoucrUG",
        "outputId": "8746f1d8-4b02-47df-f744-c40c25d9184d"
      },
      "execution_count": 88,
      "outputs": [
        {
          "output_type": "stream",
          "name": "stdout",
          "text": [
            "Epoch 1/50\n",
            "1050/1050 [==============================] - 7s 5ms/step - loss: 0.6554 - accuracy: 0.7753 - val_loss: 0.2279 - val_accuracy: 0.9277\n",
            "Epoch 2/50\n",
            "1050/1050 [==============================] - 6s 5ms/step - loss: 0.2363 - accuracy: 0.9250 - val_loss: 0.1429 - val_accuracy: 0.9563\n",
            "Epoch 3/50\n",
            "1050/1050 [==============================] - 5s 5ms/step - loss: 0.1845 - accuracy: 0.9404 - val_loss: 0.1288 - val_accuracy: 0.9610\n",
            "Epoch 4/50\n",
            "1050/1050 [==============================] - 6s 5ms/step - loss: 0.1572 - accuracy: 0.9498 - val_loss: 0.1007 - val_accuracy: 0.9701\n",
            "Epoch 5/50\n",
            "1050/1050 [==============================] - 5s 4ms/step - loss: 0.1423 - accuracy: 0.9544 - val_loss: 0.0907 - val_accuracy: 0.9715\n",
            "Epoch 6/50\n",
            "1050/1050 [==============================] - 5s 4ms/step - loss: 0.1264 - accuracy: 0.9588 - val_loss: 0.0864 - val_accuracy: 0.9740\n",
            "Epoch 7/50\n",
            "1050/1050 [==============================] - 5s 5ms/step - loss: 0.1170 - accuracy: 0.9622 - val_loss: 0.0802 - val_accuracy: 0.9758\n",
            "Epoch 8/50\n",
            "1050/1050 [==============================] - 5s 4ms/step - loss: 0.1110 - accuracy: 0.9643 - val_loss: 0.0712 - val_accuracy: 0.9796\n",
            "Epoch 9/50\n",
            "1050/1050 [==============================] - 5s 5ms/step - loss: 0.1069 - accuracy: 0.9666 - val_loss: 0.0832 - val_accuracy: 0.9748\n",
            "Epoch 10/50\n",
            "1050/1050 [==============================] - 5s 5ms/step - loss: 0.0954 - accuracy: 0.9700 - val_loss: 0.0641 - val_accuracy: 0.9810\n",
            "Epoch 11/50\n",
            "1050/1050 [==============================] - 5s 5ms/step - loss: 0.0980 - accuracy: 0.9692 - val_loss: 0.0607 - val_accuracy: 0.9832\n",
            "Epoch 12/50\n",
            "1050/1050 [==============================] - 5s 5ms/step - loss: 0.0912 - accuracy: 0.9710 - val_loss: 0.0624 - val_accuracy: 0.9808\n",
            "Epoch 13/50\n",
            "1050/1050 [==============================] - 5s 4ms/step - loss: 0.0864 - accuracy: 0.9732 - val_loss: 0.0610 - val_accuracy: 0.9823\n",
            "Epoch 14/50\n",
            "1050/1050 [==============================] - 5s 5ms/step - loss: 0.0885 - accuracy: 0.9719 - val_loss: 0.0589 - val_accuracy: 0.9833\n",
            "Epoch 15/50\n",
            "1050/1050 [==============================] - 5s 5ms/step - loss: 0.0847 - accuracy: 0.9729 - val_loss: 0.0571 - val_accuracy: 0.9837\n",
            "Epoch 16/50\n",
            "1050/1050 [==============================] - 5s 5ms/step - loss: 0.0841 - accuracy: 0.9740 - val_loss: 0.0637 - val_accuracy: 0.9798\n",
            "Epoch 17/50\n",
            "1050/1050 [==============================] - 6s 5ms/step - loss: 0.0800 - accuracy: 0.9737 - val_loss: 0.0586 - val_accuracy: 0.9818\n",
            "Epoch 18/50\n",
            "1050/1050 [==============================] - 5s 4ms/step - loss: 0.0776 - accuracy: 0.9748 - val_loss: 0.0588 - val_accuracy: 0.9813\n",
            "Epoch 19/50\n",
            "1050/1050 [==============================] - 6s 6ms/step - loss: 0.0752 - accuracy: 0.9760 - val_loss: 0.0554 - val_accuracy: 0.9832\n",
            "Epoch 20/50\n",
            "1050/1050 [==============================] - 5s 4ms/step - loss: 0.0777 - accuracy: 0.9746 - val_loss: 0.0552 - val_accuracy: 0.9832\n",
            "Epoch 21/50\n",
            "1050/1050 [==============================] - 5s 4ms/step - loss: 0.0733 - accuracy: 0.9767 - val_loss: 0.0582 - val_accuracy: 0.9817\n",
            "Epoch 22/50\n",
            "1050/1050 [==============================] - 5s 5ms/step - loss: 0.0727 - accuracy: 0.9770 - val_loss: 0.0528 - val_accuracy: 0.9838\n",
            "Epoch 23/50\n",
            "1050/1050 [==============================] - 5s 4ms/step - loss: 0.0713 - accuracy: 0.9764 - val_loss: 0.0537 - val_accuracy: 0.9829\n",
            "Epoch 24/50\n",
            "1050/1050 [==============================] - 5s 5ms/step - loss: 0.0707 - accuracy: 0.9774 - val_loss: 0.0524 - val_accuracy: 0.9846\n",
            "Epoch 25/50\n",
            "1050/1050 [==============================] - 5s 4ms/step - loss: 0.0712 - accuracy: 0.9771 - val_loss: 0.0532 - val_accuracy: 0.9840\n",
            "Epoch 26/50\n",
            "1050/1050 [==============================] - 5s 4ms/step - loss: 0.0688 - accuracy: 0.9779 - val_loss: 0.0512 - val_accuracy: 0.9844\n",
            "Epoch 27/50\n",
            "1050/1050 [==============================] - 5s 5ms/step - loss: 0.0686 - accuracy: 0.9779 - val_loss: 0.0519 - val_accuracy: 0.9845\n",
            "Epoch 28/50\n",
            "1050/1050 [==============================] - 5s 4ms/step - loss: 0.0669 - accuracy: 0.9779 - val_loss: 0.0489 - val_accuracy: 0.9849\n",
            "Epoch 29/50\n",
            "1050/1050 [==============================] - 6s 6ms/step - loss: 0.0644 - accuracy: 0.9796 - val_loss: 0.0558 - val_accuracy: 0.9830\n",
            "Epoch 30/50\n",
            "1050/1050 [==============================] - 5s 5ms/step - loss: 0.0672 - accuracy: 0.9789 - val_loss: 0.0499 - val_accuracy: 0.9856\n",
            "Epoch 31/50\n",
            "1050/1050 [==============================] - 5s 4ms/step - loss: 0.0647 - accuracy: 0.9784 - val_loss: 0.0521 - val_accuracy: 0.9854\n",
            "Epoch 32/50\n",
            "1050/1050 [==============================] - 6s 5ms/step - loss: 0.0654 - accuracy: 0.9784 - val_loss: 0.0596 - val_accuracy: 0.9820\n",
            "Epoch 33/50\n",
            "1050/1050 [==============================] - 5s 4ms/step - loss: 0.0662 - accuracy: 0.9785 - val_loss: 0.0502 - val_accuracy: 0.9840\n",
            "Epoch 34/50\n",
            "1050/1050 [==============================] - 5s 5ms/step - loss: 0.0651 - accuracy: 0.9792 - val_loss: 0.0538 - val_accuracy: 0.9850\n",
            "Epoch 35/50\n",
            "1050/1050 [==============================] - 5s 5ms/step - loss: 0.0625 - accuracy: 0.9804 - val_loss: 0.0473 - val_accuracy: 0.9858\n",
            "Epoch 36/50\n",
            "1050/1050 [==============================] - 5s 5ms/step - loss: 0.0639 - accuracy: 0.9791 - val_loss: 0.0500 - val_accuracy: 0.9861\n",
            "Epoch 37/50\n",
            "1050/1050 [==============================] - 5s 5ms/step - loss: 0.0632 - accuracy: 0.9793 - val_loss: 0.0518 - val_accuracy: 0.9852\n",
            "Epoch 38/50\n",
            "1050/1050 [==============================] - 5s 4ms/step - loss: 0.0619 - accuracy: 0.9799 - val_loss: 0.0509 - val_accuracy: 0.9857\n",
            "Epoch 39/50\n",
            "1050/1050 [==============================] - 5s 5ms/step - loss: 0.0608 - accuracy: 0.9795 - val_loss: 0.0529 - val_accuracy: 0.9857\n",
            "Epoch 40/50\n",
            "1050/1050 [==============================] - 5s 4ms/step - loss: 0.0599 - accuracy: 0.9803 - val_loss: 0.0489 - val_accuracy: 0.9864\n",
            "Epoch 41/50\n",
            "1050/1050 [==============================] - 5s 5ms/step - loss: 0.0591 - accuracy: 0.9810 - val_loss: 0.0509 - val_accuracy: 0.9845\n",
            "Epoch 42/50\n",
            "1050/1050 [==============================] - 5s 5ms/step - loss: 0.0594 - accuracy: 0.9801 - val_loss: 0.0468 - val_accuracy: 0.9862\n",
            "Epoch 43/50\n",
            "1050/1050 [==============================] - 5s 4ms/step - loss: 0.0603 - accuracy: 0.9808 - val_loss: 0.0490 - val_accuracy: 0.9852\n",
            "Epoch 44/50\n",
            "1050/1050 [==============================] - 6s 5ms/step - loss: 0.0615 - accuracy: 0.9796 - val_loss: 0.0483 - val_accuracy: 0.9860\n",
            "Epoch 45/50\n",
            "1050/1050 [==============================] - 5s 4ms/step - loss: 0.0608 - accuracy: 0.9802 - val_loss: 0.0459 - val_accuracy: 0.9871\n",
            "Epoch 46/50\n",
            "1050/1050 [==============================] - 5s 5ms/step - loss: 0.0589 - accuracy: 0.9807 - val_loss: 0.0598 - val_accuracy: 0.9813\n",
            "Epoch 47/50\n",
            "1050/1050 [==============================] - 5s 5ms/step - loss: 0.0568 - accuracy: 0.9811 - val_loss: 0.0498 - val_accuracy: 0.9843\n",
            "Epoch 48/50\n",
            "1050/1050 [==============================] - 5s 4ms/step - loss: 0.0565 - accuracy: 0.9812 - val_loss: 0.0482 - val_accuracy: 0.9856\n",
            "Epoch 49/50\n",
            "1050/1050 [==============================] - 5s 5ms/step - loss: 0.0585 - accuracy: 0.9809 - val_loss: 0.0466 - val_accuracy: 0.9858\n",
            "Epoch 50/50\n",
            "1050/1050 [==============================] - 5s 4ms/step - loss: 0.0589 - accuracy: 0.9808 - val_loss: 0.0468 - val_accuracy: 0.9857\n"
          ]
        }
      ]
    },
    {
      "cell_type": "markdown",
      "source": [
        "## 4.4 Evaluate the Model"
      ],
      "metadata": {
        "id": "LV4NDze2Nu7J"
      }
    },
    {
      "cell_type": "code",
      "source": [
        "import matplotlib.pyplot as plt\n",
        "plt.plot(r.history['loss'], label = 'loss')\n",
        "plt.plot(r.history['val_loss'], label = 'val_loss')\n",
        "plt.title('Perbandingan Loss dan Validation Loss di Tiap Epoch')\n",
        "plt.legend()\n",
        "plt.grid()\n",
        "plt.show()"
      ],
      "metadata": {
        "colab": {
          "base_uri": "https://localhost:8080/",
          "height": 452
        },
        "id": "wDqpgfPTOnLs",
        "outputId": "e5a457c6-b381-4457-cd54-b23e2c04b013"
      },
      "execution_count": 89,
      "outputs": [
        {
          "output_type": "display_data",
          "data": {
            "text/plain": [
              "<Figure size 640x480 with 1 Axes>"
            ],
            "image/png": "[encoded data removed]"
          },
          "metadata": {}
        }
      ]
    },
    {
      "cell_type": "code",
      "source": [
        "import matplotlib.pyplot as plt\n",
        "plt.plot(r.history['accuracy'], label = 'accuracy')\n",
        "plt.plot(r.history['val_accuracy'], label = 'val_accuracy')\n",
        "plt.title('Perbandingan Loss dan Validation accuracy di Tiap Epoch')\n",
        "plt.legend()\n",
        "plt.grid()\n",
        "plt.show()"
      ],
      "metadata": {
        "colab": {
          "base_uri": "https://localhost:8080/",
          "height": 452
        },
        "id": "ZyV68KM2OvK_",
        "outputId": "12b7ad2f-1631-48d1-b12b-6f88cf83464b"
      },
      "execution_count": 90,
      "outputs": [
        {
          "output_type": "display_data",
          "data": {
            "text/plain": [
              "<Figure size 640x480 with 1 Axes>"
            ],
            "image/png": "[encoded data removed]"
          },
          "metadata": {}
        }
      ]
    },
    {
      "cell_type": "code",
      "source": [
        "y_predict = model.predict(x_test)\n",
        "y_predict = np.argmax(y_predict, axis = 1)\n",
        "y_test = np.argmax(y_test, axis = 1)"
      ],
      "metadata": {
        "colab": {
          "base_uri": "https://localhost:8080/"
        },
        "id": "7QhDm-AmO5hv",
        "outputId": "932b313f-6df3-4adb-e2c1-2338864f7626"
      },
      "execution_count": 91,
      "outputs": [
        {
          "output_type": "stream",
          "name": "stdout",
          "text": [
            "263/263 [==============================] - 1s 2ms/step\n"
          ]
        }
      ]
    },
    {
      "cell_type": "code",
      "source": [
        "confusion_matrix(y_test,y_predict)"
      ],
      "metadata": {
        "colab": {
          "base_uri": "https://localhost:8080/"
        },
        "id": "QJNy_QzAPC6o",
        "outputId": "1fdbe202-1d3d-46e0-b67b-3fe051750a01"
      },
      "execution_count": 92,
      "outputs": [
        {
          "output_type": "execute_result",
          "data": {
            "text/plain": [
              "array([[818,   0,   1,   0,   1,   0,   3,   0,   2,   2],\n",
              "       [  3, 928,   4,   0,   0,   0,   0,   2,   0,   0],\n",
              "       [  1,   0, 823,   0,   1,   0,   0,   4,   4,   2],\n",
              "       [  1,   0,   3, 851,   0,   8,   1,   3,   2,   1],\n",
              "       [  0,   2,   1,   0, 805,   0,   0,   2,   1,   3],\n",
              "       [  0,   1,   0,   0,   0, 756,   1,   0,   1,   0],\n",
              "       [  3,   1,   0,   0,   1,   2, 819,   0,   1,   0],\n",
              "       [  0,   1,   5,   0,   3,   1,   0, 861,   0,   9],\n",
              "       [  0,   0,   4,   0,   1,   5,   2,   2, 795,   4],\n",
              "       [  2,   0,   0,   0,   6,   2,   0,   2,   2, 824]])"
            ]
          },
          "metadata": {},
          "execution_count": 92
        }
      ]
    },
    {
      "cell_type": "code",
      "source": [
        "print('accuracy = ', accuracy_score(y_test, y_predict))"
      ],
      "metadata": {
        "colab": {
          "base_uri": "https://localhost:8080/"
        },
        "id": "bJYV0hw6RUgu",
        "outputId": "82bef63b-170c-4a65-8441-1f7ecd83f0b1"
      },
      "execution_count": 93,
      "outputs": [
        {
          "output_type": "stream",
          "name": "stdout",
          "text": [
            "accuracy =  0.9857142857142858\n"
          ]
        }
      ]
    },
    {
      "cell_type": "markdown",
      "source": [
        "# 5. Prediction on test data"
      ],
      "metadata": {
        "id": "-OPDYOeRNXKg"
      }
    },
    {
      "cell_type": "code",
      "source": [
        "y_predict_test = model.predict(test_data_norm)\n",
        "y_predict_test = np.argmax(y_predict_test, axis = 1)\n",
        "pd_y_test = pd.DataFrame(y_predict_test, columns = ['Label'])\n",
        "ID = pd.DataFrame(range(1, len (y_predict_test)+1), columns = ['ImageId'])"
      ],
      "metadata": {
        "colab": {
          "base_uri": "https://localhost:8080/"
        },
        "id": "Z8ndlElkNZs3",
        "outputId": "2d13e3fd-df74-42a0-80b8-0d9177c145f0"
      },
      "execution_count": 94,
      "outputs": [
        {
          "output_type": "stream",
          "name": "stdout",
          "text": [
            "875/875 [==============================] - 2s 2ms/step\n"
          ]
        }
      ]
    },
    {
      "cell_type": "code",
      "source": [
        "pd.concat([ID, pd_y_test], axis = 1).to_csv('MNIST.csv', index = False)"
      ],
      "metadata": {
        "id": "JgGw7qulSygm"
      },
      "execution_count": 95,
      "outputs": []
    }
  ]
}